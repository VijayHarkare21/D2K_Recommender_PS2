{
  "nbformat": 4,
  "nbformat_minor": 0,
  "metadata": {
    "colab": {
      "private_outputs": true,
      "provenance": [],
      "authorship_tag": "ABX9TyNXLEd0Xp/hhnif297JiBKO",
      "include_colab_link": true
    },
    "kernelspec": {
      "name": "python3",
      "display_name": "Python 3"
    },
    "language_info": {
      "name": "python"
    }
  },
  "cells": [
    {
      "cell_type": "markdown",
      "metadata": {
        "id": "view-in-github",
        "colab_type": "text"
      },
      "source": [
        "<a href=\"https://colab.research.google.com/github/VijayHarkare21/D2K_Recommender_PS2/blob/main/D2K.ipynb\" target=\"_parent\"><img src=\"https://colab.research.google.com/assets/colab-badge.svg\" alt=\"Open In Colab\"/></a>"
      ]
    },
    {
      "cell_type": "code",
      "execution_count": null,
      "metadata": {
        "id": "RMSRIQqIMJgH"
      },
      "outputs": [],
      "source": [
        "from bs4 import BeautifulSoup\n",
        "import pandas as pd\n",
        "import requests\n",
        "import urllib.request\n",
        "import time\n",
        "import re"
      ]
    },
    {
      "cell_type": "code",
      "source": [
        "authors=[]\n",
        "quotes=[]"
      ],
      "metadata": {
        "id": "7EdKZd48XIwY"
      },
      "execution_count": null,
      "outputs": []
    },
    {
      "cell_type": "code",
      "source": [
        "url='https://www.kdnuggets.com/2017/05/42-essential-quotes-data-science-thought-leaders.html'"
      ],
      "metadata": {
        "id": "7PE7hkIxarEt"
      },
      "execution_count": null,
      "outputs": []
    },
    {
      "cell_type": "code",
      "source": [
        "html = requests.get(url)"
      ],
      "metadata": {
        "id": "1X1DgMQjbToY"
      },
      "execution_count": null,
      "outputs": []
    },
    {
      "cell_type": "code",
      "source": [
        "html"
      ],
      "metadata": {
        "id": "Lo0adKeGbUz5"
      },
      "execution_count": null,
      "outputs": []
    },
    {
      "cell_type": "code",
      "source": [
        "soup = BeautifulSoup(html.text, 'html.parser')"
      ],
      "metadata": {
        "id": "9YenSQv2bdM_"
      },
      "execution_count": null,
      "outputs": []
    },
    {
      "cell_type": "code",
      "source": [
        "soup.find('ol')"
      ],
      "metadata": {
        "id": "_u7LJZERdgqf"
      },
      "execution_count": null,
      "outputs": []
    },
    {
      "cell_type": "code",
      "source": [
        "quotes.clear()\n",
        "quotes.insert(0,\"By definition all scientists are data scientists. In my opinion, they are half hacker, half analyst, they use data to build products and find insights. It’s Columbus meet Columbo―starry-eyed explorers and skeptical detectives.\")\n",
        "for li in soup.find_all('ol'):\n",
        "  if(li.get('start')!=None):\n",
        "    quotes.append(li.text)\n",
        "  "
      ],
      "metadata": {
        "id": "WXOPVlqtew7R"
      },
      "execution_count": null,
      "outputs": []
    },
    {
      "cell_type": "code",
      "source": [
        "for quote in quotes:\n",
        "  print(quote)"
      ],
      "metadata": {
        "id": "OKKH2P7emEqX"
      },
      "execution_count": null,
      "outputs": []
    },
    {
      "cell_type": "code",
      "source": [
        "\n",
        "for links in soup.find_all('a'):\n",
        "  names=links.findChildren(\"em\",recursive=True)\n",
        "  for name in names:\n",
        "    authors.append(name.text)\n"
      ],
      "metadata": {
        "id": "ORIkKrOmm6mx"
      },
      "execution_count": null,
      "outputs": []
    },
    {
      "cell_type": "code",
      "source": [
        "print(len(authors));\n",
        "print(len(quotes));"
      ],
      "metadata": {
        "id": "wioQb6TPpaPP"
      },
      "execution_count": null,
      "outputs": []
    },
    {
      "cell_type": "code",
      "source": [
        "df = pd.DataFrame(\n",
        "    {'Quotes':quotes,\n",
        "     'Authors':authors,\n",
        "    })"
      ],
      "metadata": {
        "id": "M9Lx9Dm3rM5b"
      },
      "execution_count": null,
      "outputs": []
    },
    {
      "cell_type": "code",
      "source": [],
      "metadata": {
        "id": "eWcNFhUlNSNM"
      },
      "execution_count": null,
      "outputs": []
    },
    {
      "cell_type": "code",
      "source": [
        "print(len(authors))"
      ],
      "metadata": {
        "id": "yae80j0GKHnF"
      },
      "execution_count": null,
      "outputs": []
    },
    {
      "cell_type": "code",
      "source": [
        "df"
      ],
      "metadata": {
        "id": "MZEQ6TwUtP-x"
      },
      "execution_count": null,
      "outputs": []
    },
    {
      "cell_type": "code",
      "source": [
        "url2='https://www.analytixlabs.co.in/blog/40-best-artificial-intelligence-quotes/'"
      ],
      "metadata": {
        "id": "NyKMBAEsvYEH"
      },
      "execution_count": null,
      "outputs": []
    },
    {
      "cell_type": "code",
      "source": [
        "html2 = requests.get(url2)"
      ],
      "metadata": {
        "id": "AHpJXCW7yVf2"
      },
      "execution_count": null,
      "outputs": []
    },
    {
      "cell_type": "code",
      "source": [
        "html2"
      ],
      "metadata": {
        "id": "oQIsy31Oybu-"
      },
      "execution_count": null,
      "outputs": []
    },
    {
      "cell_type": "code",
      "source": [
        "soup2 = BeautifulSoup(html2.text, 'html.parser')"
      ],
      "metadata": {
        "id": "RmtHPhs7yixW"
      },
      "execution_count": null,
      "outputs": []
    },
    {
      "cell_type": "code",
      "source": [
        "temp=\"\"\n",
        "quotes2=[]\n",
        "for p in soup2.find_all('p'):\n",
        "  temp+=str(p)\n",
        "quotes2=re.findall(r'“(.*?)”', temp)\n",
        "print(type(quotes2))\n"
      ],
      "metadata": {
        "id": "Z37c7-t4ylpu"
      },
      "execution_count": null,
      "outputs": []
    },
    {
      "cell_type": "code",
      "source": [
        "\n",
        "for quote in quotes2:\n",
        "  quotes.append(quote)"
      ],
      "metadata": {
        "id": "TR2ZHl6E3Jqu"
      },
      "execution_count": null,
      "outputs": []
    },
    {
      "cell_type": "code",
      "source": [
        "for quote in quotes:\n",
        "  print(quote)"
      ],
      "metadata": {
        "id": "CZG247_Y6Iop"
      },
      "execution_count": null,
      "outputs": []
    },
    {
      "cell_type": "code",
      "source": [
        "print(len(quotes))"
      ],
      "metadata": {
        "id": "HEmni0o_6SRr"
      },
      "execution_count": null,
      "outputs": []
    },
    {
      "cell_type": "code",
      "source": [
        "author2=[]\n",
        "text=[]\n",
        "i = 0\n",
        "for p in soup2.find_all('p'):\n",
        "  # text.append(p.text)\n",
        "  # print(p)\n",
        "\n",
        "  if p != None and p.text != \"\":\n",
        "    print(p.text)\n",
        "    if p.text[0] == '–':\n",
        "      author2.append(p.text[2:])\n",
        "print()\n",
        "print(len(author2))"
      ],
      "metadata": {
        "id": "qDsdBuYq_aaG"
      },
      "execution_count": null,
      "outputs": []
    },
    {
      "cell_type": "code",
      "source": [
        "author2.remove(\"Larry Page\")"
      ],
      "metadata": {
        "id": "NtKyiVJpHHwe"
      },
      "execution_count": null,
      "outputs": []
    },
    {
      "cell_type": "code",
      "source": [
        "for word in author2:\n",
        "  print((word))"
      ],
      "metadata": {
        "id": "cQdyRuJFLota"
      },
      "execution_count": null,
      "outputs": []
    },
    {
      "cell_type": "code",
      "source": [
        "for author in author2:\n",
        "  authors.append(author)"
      ],
      "metadata": {
        "id": "Of7X-UW9InCE"
      },
      "execution_count": null,
      "outputs": []
    },
    {
      "cell_type": "code",
      "source": [
        "print(len(authors))"
      ],
      "metadata": {
        "id": "ckp3q4zoJ2N-"
      },
      "execution_count": null,
      "outputs": []
    },
    {
      "cell_type": "code",
      "source": [
        "category=[]\n",
        "category.clear()\n",
        "for i in range(22):\n",
        "  category.append(\"Data Science\")\n",
        "for i in range(39):\n",
        "  category.append(\"AI\")"
      ],
      "metadata": {
        "id": "3f2WVFwlMoJ2"
      },
      "execution_count": null,
      "outputs": []
    },
    {
      "cell_type": "code",
      "source": [
        "print(len(category))"
      ],
      "metadata": {
        "id": "1ejlRV54NFvO"
      },
      "execution_count": null,
      "outputs": []
    },
    {
      "cell_type": "code",
      "source": [
        "df = pd.DataFrame(\n",
        "    {'Quotes':quotes,\n",
        "     'Authors':authors,\n",
        "     'Category':category    })"
      ],
      "metadata": {
        "id": "Q-o4ivqsNTw5"
      },
      "execution_count": null,
      "outputs": []
    },
    {
      "cell_type": "code",
      "source": [
        "df"
      ],
      "metadata": {
        "id": "GgVLh8aeNZ9V"
      },
      "execution_count": null,
      "outputs": []
    },
    {
      "cell_type": "code",
      "source": [
        "df.to_excel(\"quoteRiddhi.xlsx\")"
      ],
      "metadata": {
        "id": "k9zjKKCmNkh5"
      },
      "execution_count": null,
      "outputs": []
    }
  ]
}