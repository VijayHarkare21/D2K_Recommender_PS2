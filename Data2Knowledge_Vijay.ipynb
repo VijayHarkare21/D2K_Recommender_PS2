{
  "nbformat": 4,
  "nbformat_minor": 0,
  "metadata": {
    "colab": {
      "provenance": [],
      "include_colab_link": true
    },
    "kernelspec": {
      "name": "python3",
      "display_name": "Python 3"
    },
    "language_info": {
      "name": "python"
    }
  },
  "cells": [
    {
      "cell_type": "markdown",
      "metadata": {
        "id": "view-in-github",
        "colab_type": "text"
      },
      "source": [
        "<a href=\"https://colab.research.google.com/github/VijayHarkare21/D2K_Recommender_PS2/blob/main/Data2Knowledge_Vijay.ipynb\" target=\"_parent\"><img src=\"https://colab.research.google.com/assets/colab-badge.svg\" alt=\"Open In Colab\"/></a>"
      ]
    },
    {
      "cell_type": "code",
      "execution_count": 1,
      "metadata": {
        "colab": {
          "base_uri": "https://localhost:8080/"
        },
        "id": "39Ca6DDCKRI4",
        "outputId": "6b8fe4e1-8721-498c-e8d0-fff2fa0526a6"
      },
      "outputs": [
        {
          "output_type": "stream",
          "name": "stdout",
          "text": [
            "Looking in indexes: https://pypi.org/simple, https://us-python.pkg.dev/colab-wheels/public/simple/\n",
            "Requirement already satisfied: requests in /usr/local/lib/python3.8/dist-packages (2.25.1)\n",
            "Requirement already satisfied: certifi>=2017.4.17 in /usr/local/lib/python3.8/dist-packages (from requests) (2022.12.7)\n",
            "Requirement already satisfied: urllib3<1.27,>=1.21.1 in /usr/local/lib/python3.8/dist-packages (from requests) (1.24.3)\n",
            "Requirement already satisfied: idna<3,>=2.5 in /usr/local/lib/python3.8/dist-packages (from requests) (2.10)\n",
            "Requirement already satisfied: chardet<5,>=3.0.2 in /usr/local/lib/python3.8/dist-packages (from requests) (4.0.0)\n"
          ]
        }
      ],
      "source": [
        "pip install requests"
      ]
    },
    {
      "cell_type": "code",
      "source": [
        "!pip install beautifulsoup4"
      ],
      "metadata": {
        "colab": {
          "base_uri": "https://localhost:8080/"
        },
        "id": "GKa1P1hCV0w0",
        "outputId": "e2f0ec7f-445f-404b-afa3-2cf3fd29af60"
      },
      "execution_count": 2,
      "outputs": [
        {
          "output_type": "stream",
          "name": "stdout",
          "text": [
            "Looking in indexes: https://pypi.org/simple, https://us-python.pkg.dev/colab-wheels/public/simple/\n",
            "Requirement already satisfied: beautifulsoup4 in /usr/local/lib/python3.8/dist-packages (4.6.3)\n"
          ]
        }
      ]
    },
    {
      "cell_type": "code",
      "source": [
        "!pip install selenium"
      ],
      "metadata": {
        "colab": {
          "base_uri": "https://localhost:8080/"
        },
        "id": "t52FzkoLWNm1",
        "outputId": "636f4ca0-0e79-4017-d55e-9d742b66939a"
      },
      "execution_count": 3,
      "outputs": [
        {
          "output_type": "stream",
          "name": "stdout",
          "text": [
            "Looking in indexes: https://pypi.org/simple, https://us-python.pkg.dev/colab-wheels/public/simple/\n",
            "Collecting selenium\n",
            "  Downloading selenium-4.8.0-py3-none-any.whl (6.3 MB)\n",
            "\u001b[2K     \u001b[90m━━━━━━━━━━━━━━━━━━━━━━━━━━━━━━━━━━━━━━━━\u001b[0m \u001b[32m6.3/6.3 MB\u001b[0m \u001b[31m48.5 MB/s\u001b[0m eta \u001b[36m0:00:00\u001b[0m\n",
            "\u001b[?25hCollecting urllib3[socks]~=1.26\n",
            "  Downloading urllib3-1.26.14-py2.py3-none-any.whl (140 kB)\n",
            "\u001b[2K     \u001b[90m━━━━━━━━━━━━━━━━━━━━━━━━━━━━━━━━━━━━━━\u001b[0m \u001b[32m140.6/140.6 KB\u001b[0m \u001b[31m18.3 MB/s\u001b[0m eta \u001b[36m0:00:00\u001b[0m\n",
            "\u001b[?25hRequirement already satisfied: certifi>=2021.10.8 in /usr/local/lib/python3.8/dist-packages (from selenium) (2022.12.7)\n",
            "Collecting trio-websocket~=0.9\n",
            "  Downloading trio_websocket-0.9.2-py3-none-any.whl (16 kB)\n",
            "Collecting trio~=0.17\n",
            "  Downloading trio-0.22.0-py3-none-any.whl (384 kB)\n",
            "\u001b[2K     \u001b[90m━━━━━━━━━━━━━━━━━━━━━━━━━━━━━━━━━━━━━━\u001b[0m \u001b[32m384.9/384.9 KB\u001b[0m \u001b[31m38.0 MB/s\u001b[0m eta \u001b[36m0:00:00\u001b[0m\n",
            "\u001b[?25hCollecting exceptiongroup>=1.0.0rc9\n",
            "  Downloading exceptiongroup-1.1.0-py3-none-any.whl (14 kB)\n",
            "Collecting sniffio\n",
            "  Downloading sniffio-1.3.0-py3-none-any.whl (10 kB)\n",
            "Requirement already satisfied: sortedcontainers in /usr/local/lib/python3.8/dist-packages (from trio~=0.17->selenium) (2.4.0)\n",
            "Collecting async-generator>=1.9\n",
            "  Downloading async_generator-1.10-py3-none-any.whl (18 kB)\n",
            "Requirement already satisfied: idna in /usr/local/lib/python3.8/dist-packages (from trio~=0.17->selenium) (2.10)\n",
            "Collecting outcome\n",
            "  Downloading outcome-1.2.0-py2.py3-none-any.whl (9.7 kB)\n",
            "Requirement already satisfied: attrs>=19.2.0 in /usr/local/lib/python3.8/dist-packages (from trio~=0.17->selenium) (22.2.0)\n",
            "Collecting wsproto>=0.14\n",
            "  Downloading wsproto-1.2.0-py3-none-any.whl (24 kB)\n",
            "Requirement already satisfied: PySocks!=1.5.7,<2.0,>=1.5.6 in /usr/local/lib/python3.8/dist-packages (from urllib3[socks]~=1.26->selenium) (1.7.1)\n",
            "Collecting h11<1,>=0.9.0\n",
            "  Downloading h11-0.14.0-py3-none-any.whl (58 kB)\n",
            "\u001b[2K     \u001b[90m━━━━━━━━━━━━━━━━━━━━━━━━━━━━━━━━━━━━━━━━\u001b[0m \u001b[32m58.3/58.3 KB\u001b[0m \u001b[31m8.4 MB/s\u001b[0m eta \u001b[36m0:00:00\u001b[0m\n",
            "\u001b[?25hInstalling collected packages: urllib3, sniffio, outcome, h11, exceptiongroup, async-generator, wsproto, trio, trio-websocket, selenium\n",
            "  Attempting uninstall: urllib3\n",
            "    Found existing installation: urllib3 1.24.3\n",
            "    Uninstalling urllib3-1.24.3:\n",
            "      Successfully uninstalled urllib3-1.24.3\n",
            "Successfully installed async-generator-1.10 exceptiongroup-1.1.0 h11-0.14.0 outcome-1.2.0 selenium-4.8.0 sniffio-1.3.0 trio-0.22.0 trio-websocket-0.9.2 urllib3-1.26.14 wsproto-1.2.0\n"
          ]
        }
      ]
    },
    {
      "cell_type": "code",
      "source": [
        "import requests\n",
        "from bs4 import BeautifulSoup"
      ],
      "metadata": {
        "id": "o4r783e0WSV0"
      },
      "execution_count": 4,
      "outputs": []
    },
    {
      "cell_type": "code",
      "source": [
        "url = \"https://www.scuba.io/blog/48-analytics-quotes-experts\"\n",
        "page = requests.get(url)\n",
        "\n",
        "# print(page.text)"
      ],
      "metadata": {
        "id": "-llPoshKYy3r"
      },
      "execution_count": 5,
      "outputs": []
    },
    {
      "cell_type": "code",
      "source": [
        "soup = BeautifulSoup(page.content, \"html.parser\")"
      ],
      "metadata": {
        "id": "fuv6r09wY65r"
      },
      "execution_count": 6,
      "outputs": []
    },
    {
      "cell_type": "code",
      "source": [
        "quotes = soup.find(id=\"hs_cos_wrapper_post_body\")\n",
        "authors = []\n",
        "quote_txt = []\n",
        "category = []\n",
        "authors1 = []\n",
        "quote_txt1 = []\n",
        "category1 = []"
      ],
      "metadata": {
        "id": "KpmwL_3PZq0d"
      },
      "execution_count": 7,
      "outputs": []
    },
    {
      "cell_type": "code",
      "source": [
        "# For 48 Analytics Quotes Experts Website\n",
        "\n",
        "authors.clear()\n",
        "quote_txt.clear()\n",
        "category.clear()\n",
        "# print(quotes)\n",
        "for author in quotes.find_all(\"h3\"):\n",
        "    # print(author.text, end=\"\\n\\n\")\n",
        "    # print(type(author))\n",
        "    s = author.find(\"a\")\n",
        "    # print(s.text)\n",
        "    # print(s)\n",
        "    authors.append(s.text.strip().split(\",\")[0])\n",
        "# print(len(authors_cat))\n",
        "# for i in authors:\n",
        "#     print(i)\n",
        "ref_tag = quotes.find(\"h3\")\n",
        "# print(ref_tag)\n",
        "i = 0\n",
        "for tag in quotes.find_all(\"h3\"):\n",
        "    quote = tag.find_next_sibling(\"p\")\n",
        "    # print(quote.text)\n",
        "    quote_txt.append(quote.text)\n",
        "    # i += 1\n",
        "# print(i)\n",
        "\n",
        "# for i in quote_txt:\n",
        "#     print(i)\n",
        "for i in range(50):\n",
        "    category.append(\"Analytics\")"
      ],
      "metadata": {
        "id": "OJKyOUFdZ7AM"
      },
      "execution_count": 8,
      "outputs": []
    },
    {
      "cell_type": "code",
      "source": [
        "# 36 Inspirational Quotes on Big Data, Machine Learning and Artificial INtelligence\n",
        "url1 = \"https://datasemantics.co/36-inspirational-quotes-on-big-data-machine-learning-and-artificial-intelligence/\"\n",
        "headers = {\"User-Agent\": \"Mozilla/5.0 (Windows NT 10.0; Win64; x64) AppleWebKit/537.36 (KHTML, like Gecko) Chrome/110.0.0.0 Safari/537.36 Edg/110.0.1587.41\"}\n",
        "page1 = requests.get(url1, headers=headers)\n",
        "soup1 = BeautifulSoup(page1.content, \"html.parser\")\n",
        "# print(page1.text)"
      ],
      "metadata": {
        "id": "3MiQncKfaGX_"
      },
      "execution_count": 9,
      "outputs": []
    },
    {
      "cell_type": "code",
      "source": [
        "quotes1 = soup1.find(\"div\", itemprop=\"articleBody\")\n",
        "quote_txt1.clear()\n",
        "authors1.clear()\n",
        "category1.clear()\n",
        "# print(quotes1)\n",
        "n = 0\n",
        "for i in quotes1.find_all(\"p\"):    \n",
        "    # print(n)\n",
        "    if (n > 10 and n < 23) or (n> 23 and n < 48):\n",
        "        quote_auth = i.text.split('”')\n",
        "        # print(quote_auth)\n",
        "        if quote_auth[0][0].isnumeric():\n",
        "            link = i.findChildren(\"a\", recursive=True)\n",
        "            l1 = None\n",
        "            for l in link:\n",
        "                l1 = l\n",
        "            author = None\n",
        "            if (l1 != None):\n",
        "                author = l1.text\n",
        "            else:\n",
        "                author = quote_auth[1]\n",
        "                # print(author)\n",
        "                author = author.replace(\"–\", \" \")\n",
        "                author = author.replace(\"—\", \" \")\n",
        "                author = author.replace(\"~\", \" \")\n",
        "                author = author.strip()\n",
        "                # print(author)\n",
        "            \n",
        "            quote = quote_auth[0].split('“')[1]\n",
        "            quote_txt1.append(quote)\n",
        "            authors1.append(author)\n",
        "    n += 1\n",
        "    # print(i, end=\"\\n\\n\\n\")\n",
        "# for i, j in zip(quote_txt1, authors1):\n",
        "#     print(i, \"-\", j, end=\"\\n\\n\")\n",
        "\n",
        "for i in range(12):\n",
        "    category1.append(\"Big Data\")\n",
        "for i in range(24):\n",
        "    category1.append(\"Machine Learning & Artificial Intelligence\")\n",
        "\n",
        "# for i in category1:\n",
        "#     print(i)"
      ],
      "metadata": {
        "id": "vCRs66KooAzP"
      },
      "execution_count": null,
      "outputs": []
    },
    {
      "cell_type": "code",
      "source": [
        "final_quotes = quote_txt + quote_txt1\n",
        "final_authors = authors + authors1\n",
        "final_category = category + category1"
      ],
      "metadata": {
        "id": "dwdiDyt5qamS"
      },
      "execution_count": null,
      "outputs": []
    },
    {
      "cell_type": "code",
      "source": [
        "import pandas as pd"
      ],
      "metadata": {
        "id": "dMNvC0OE2FhY"
      },
      "execution_count": 12,
      "outputs": []
    },
    {
      "cell_type": "code",
      "source": [
        "df = pd.DataFrame(\n",
        "    {\"Quote\": final_quotes,\n",
        "     \"Author\": final_authors,\n",
        "     \"Category\": final_category}\n",
        ")"
      ],
      "metadata": {
        "id": "fY50vUZq2LKz"
      },
      "execution_count": null,
      "outputs": []
    },
    {
      "cell_type": "code",
      "source": [
        "df"
      ],
      "metadata": {
        "colab": {
          "base_uri": "https://localhost:8080/",
          "height": 562
        },
        "id": "IphhyvJD2cWt",
        "outputId": "cfffa88b-9d17-4e7e-d5a0-07cd2e70d9a1"
      },
      "execution_count": null,
      "outputs": [
        {
          "output_type": "execute_result",
          "data": {
            "text/plain": [
              "                                                Quote             Author  \\\n",
              "0   “Different verticals need different terminal r...        Alex Shultz   \n",
              "1   “Tracking marketing is a cultural thing. Eithe...    Stuart McDonald   \n",
              "2   “Time and money are your scarcest resources. Y...       Matt Trifiro   \n",
              "3   “Have a vision for what you are trying to do. ...        Andrew Chen   \n",
              "4   “Execution is so critical. Sometimes you just ...       Meenal Balar   \n",
              "..                                                ...                ...   \n",
              "81  Is artificial intelligence less than our intel...        Spike Jonze   \n",
              "82  By far, the greatest danger of Artificial Inte...  Eliezer Yudkowsky   \n",
              "83  The sad thing about artificial intelligence is...   Jean Baudrillard   \n",
              "84  Forget artificial intelligence – in the brave ...      Tom Chatfield   \n",
              "85  Before we work on artificial intelligence why ...       Steve Polyak   \n",
              "\n",
              "                                      Category  \n",
              "0                                    Analytics  \n",
              "1                                    Analytics  \n",
              "2                                    Analytics  \n",
              "3                                    Analytics  \n",
              "4                                    Analytics  \n",
              "..                                         ...  \n",
              "81  Machine Learning & Artificial Intelligence  \n",
              "82  Machine Learning & Artificial Intelligence  \n",
              "83  Machine Learning & Artificial Intelligence  \n",
              "84  Machine Learning & Artificial Intelligence  \n",
              "85  Machine Learning & Artificial Intelligence  \n",
              "\n",
              "[86 rows x 3 columns]"
            ],
            "text/html": [
              "\n",
              "  <div id=\"df-99730144-a669-42c9-b22c-50e51d57a4b6\">\n",
              "    <div class=\"colab-df-container\">\n",
              "      <div>\n",
              "<style scoped>\n",
              "    .dataframe tbody tr th:only-of-type {\n",
              "        vertical-align: middle;\n",
              "    }\n",
              "\n",
              "    .dataframe tbody tr th {\n",
              "        vertical-align: top;\n",
              "    }\n",
              "\n",
              "    .dataframe thead th {\n",
              "        text-align: right;\n",
              "    }\n",
              "</style>\n",
              "<table border=\"1\" class=\"dataframe\">\n",
              "  <thead>\n",
              "    <tr style=\"text-align: right;\">\n",
              "      <th></th>\n",
              "      <th>Quote</th>\n",
              "      <th>Author</th>\n",
              "      <th>Category</th>\n",
              "    </tr>\n",
              "  </thead>\n",
              "  <tbody>\n",
              "    <tr>\n",
              "      <th>0</th>\n",
              "      <td>“Different verticals need different terminal r...</td>\n",
              "      <td>Alex Shultz</td>\n",
              "      <td>Analytics</td>\n",
              "    </tr>\n",
              "    <tr>\n",
              "      <th>1</th>\n",
              "      <td>“Tracking marketing is a cultural thing. Eithe...</td>\n",
              "      <td>Stuart McDonald</td>\n",
              "      <td>Analytics</td>\n",
              "    </tr>\n",
              "    <tr>\n",
              "      <th>2</th>\n",
              "      <td>“Time and money are your scarcest resources. Y...</td>\n",
              "      <td>Matt Trifiro</td>\n",
              "      <td>Analytics</td>\n",
              "    </tr>\n",
              "    <tr>\n",
              "      <th>3</th>\n",
              "      <td>“Have a vision for what you are trying to do. ...</td>\n",
              "      <td>Andrew Chen</td>\n",
              "      <td>Analytics</td>\n",
              "    </tr>\n",
              "    <tr>\n",
              "      <th>4</th>\n",
              "      <td>“Execution is so critical. Sometimes you just ...</td>\n",
              "      <td>Meenal Balar</td>\n",
              "      <td>Analytics</td>\n",
              "    </tr>\n",
              "    <tr>\n",
              "      <th>...</th>\n",
              "      <td>...</td>\n",
              "      <td>...</td>\n",
              "      <td>...</td>\n",
              "    </tr>\n",
              "    <tr>\n",
              "      <th>81</th>\n",
              "      <td>Is artificial intelligence less than our intel...</td>\n",
              "      <td>Spike Jonze</td>\n",
              "      <td>Machine Learning &amp; Artificial Intelligence</td>\n",
              "    </tr>\n",
              "    <tr>\n",
              "      <th>82</th>\n",
              "      <td>By far, the greatest danger of Artificial Inte...</td>\n",
              "      <td>Eliezer Yudkowsky</td>\n",
              "      <td>Machine Learning &amp; Artificial Intelligence</td>\n",
              "    </tr>\n",
              "    <tr>\n",
              "      <th>83</th>\n",
              "      <td>The sad thing about artificial intelligence is...</td>\n",
              "      <td>Jean Baudrillard</td>\n",
              "      <td>Machine Learning &amp; Artificial Intelligence</td>\n",
              "    </tr>\n",
              "    <tr>\n",
              "      <th>84</th>\n",
              "      <td>Forget artificial intelligence – in the brave ...</td>\n",
              "      <td>Tom Chatfield</td>\n",
              "      <td>Machine Learning &amp; Artificial Intelligence</td>\n",
              "    </tr>\n",
              "    <tr>\n",
              "      <th>85</th>\n",
              "      <td>Before we work on artificial intelligence why ...</td>\n",
              "      <td>Steve Polyak</td>\n",
              "      <td>Machine Learning &amp; Artificial Intelligence</td>\n",
              "    </tr>\n",
              "  </tbody>\n",
              "</table>\n",
              "<p>86 rows × 3 columns</p>\n",
              "</div>\n",
              "      <button class=\"colab-df-convert\" onclick=\"convertToInteractive('df-99730144-a669-42c9-b22c-50e51d57a4b6')\"\n",
              "              title=\"Convert this dataframe to an interactive table.\"\n",
              "              style=\"display:none;\">\n",
              "        \n",
              "  <svg xmlns=\"http://www.w3.org/2000/svg\" height=\"24px\"viewBox=\"0 0 24 24\"\n",
              "       width=\"24px\">\n",
              "    <path d=\"M0 0h24v24H0V0z\" fill=\"none\"/>\n",
              "    <path d=\"M18.56 5.44l.94 2.06.94-2.06 2.06-.94-2.06-.94-.94-2.06-.94 2.06-2.06.94zm-11 1L8.5 8.5l.94-2.06 2.06-.94-2.06-.94L8.5 2.5l-.94 2.06-2.06.94zm10 10l.94 2.06.94-2.06 2.06-.94-2.06-.94-.94-2.06-.94 2.06-2.06.94z\"/><path d=\"M17.41 7.96l-1.37-1.37c-.4-.4-.92-.59-1.43-.59-.52 0-1.04.2-1.43.59L10.3 9.45l-7.72 7.72c-.78.78-.78 2.05 0 2.83L4 21.41c.39.39.9.59 1.41.59.51 0 1.02-.2 1.41-.59l7.78-7.78 2.81-2.81c.8-.78.8-2.07 0-2.86zM5.41 20L4 18.59l7.72-7.72 1.47 1.35L5.41 20z\"/>\n",
              "  </svg>\n",
              "      </button>\n",
              "      \n",
              "  <style>\n",
              "    .colab-df-container {\n",
              "      display:flex;\n",
              "      flex-wrap:wrap;\n",
              "      gap: 12px;\n",
              "    }\n",
              "\n",
              "    .colab-df-convert {\n",
              "      background-color: #E8F0FE;\n",
              "      border: none;\n",
              "      border-radius: 50%;\n",
              "      cursor: pointer;\n",
              "      display: none;\n",
              "      fill: #1967D2;\n",
              "      height: 32px;\n",
              "      padding: 0 0 0 0;\n",
              "      width: 32px;\n",
              "    }\n",
              "\n",
              "    .colab-df-convert:hover {\n",
              "      background-color: #E2EBFA;\n",
              "      box-shadow: 0px 1px 2px rgba(60, 64, 67, 0.3), 0px 1px 3px 1px rgba(60, 64, 67, 0.15);\n",
              "      fill: #174EA6;\n",
              "    }\n",
              "\n",
              "    [theme=dark] .colab-df-convert {\n",
              "      background-color: #3B4455;\n",
              "      fill: #D2E3FC;\n",
              "    }\n",
              "\n",
              "    [theme=dark] .colab-df-convert:hover {\n",
              "      background-color: #434B5C;\n",
              "      box-shadow: 0px 1px 3px 1px rgba(0, 0, 0, 0.15);\n",
              "      filter: drop-shadow(0px 1px 2px rgba(0, 0, 0, 0.3));\n",
              "      fill: #FFFFFF;\n",
              "    }\n",
              "  </style>\n",
              "\n",
              "      <script>\n",
              "        const buttonEl =\n",
              "          document.querySelector('#df-99730144-a669-42c9-b22c-50e51d57a4b6 button.colab-df-convert');\n",
              "        buttonEl.style.display =\n",
              "          google.colab.kernel.accessAllowed ? 'block' : 'none';\n",
              "\n",
              "        async function convertToInteractive(key) {\n",
              "          const element = document.querySelector('#df-99730144-a669-42c9-b22c-50e51d57a4b6');\n",
              "          const dataTable =\n",
              "            await google.colab.kernel.invokeFunction('convertToInteractive',\n",
              "                                                     [key], {});\n",
              "          if (!dataTable) return;\n",
              "\n",
              "          const docLinkHtml = 'Like what you see? Visit the ' +\n",
              "            '<a target=\"_blank\" href=https://colab.research.google.com/notebooks/data_table.ipynb>data table notebook</a>'\n",
              "            + ' to learn more about interactive tables.';\n",
              "          element.innerHTML = '';\n",
              "          dataTable['output_type'] = 'display_data';\n",
              "          await google.colab.output.renderOutput(dataTable, element);\n",
              "          const docLink = document.createElement('div');\n",
              "          docLink.innerHTML = docLinkHtml;\n",
              "          element.appendChild(docLink);\n",
              "        }\n",
              "      </script>\n",
              "    </div>\n",
              "  </div>\n",
              "  "
            ]
          },
          "metadata": {},
          "execution_count": 121
        }
      ]
    },
    {
      "cell_type": "code",
      "source": [
        "# My own data\n",
        "\n",
        "url3 = \"https://www.goodreads.com/quotes/tag/deep-learning#:~:text=Imaginations%20bring%20order%20out%20of,AI%20springs%20and%20AI%20autumns.%E2%80%9D&text=%E2%80%9CEmotions%20are%20essential%20parts%20of,Artificial%20Intelligence%20will%20remain%20incomplete.%E2%80%9D\"\n",
        "page3 = requests.get(url3)\n",
        "# print(page3.text)\n",
        "soup3 = BeautifulSoup(page3.content, \"html.parser\")"
      ],
      "metadata": {
        "id": "8aEA1nhq2dMI"
      },
      "execution_count": null,
      "outputs": []
    },
    {
      "cell_type": "code",
      "source": [
        "quote_txt2 = []\n",
        "authors2 = []\n",
        "category2 = [] "
      ],
      "metadata": {
        "id": "YzwPFkf05wtw"
      },
      "execution_count": null,
      "outputs": []
    },
    {
      "cell_type": "code",
      "source": [
        "quotes3 = soup3.find(\"div\", class_=\"leftContainer\")\n",
        "# print(quotes3)"
      ],
      "metadata": {
        "id": "b23baQkt6mmg"
      },
      "execution_count": null,
      "outputs": []
    },
    {
      "cell_type": "code",
      "source": [
        "# quotes5 = quotes3.find_all('div', class_='quote')\n",
        "# print(quotes5)\n",
        "for i in quotes3.find_all(\"div\", class_=\"quote\"):\n",
        "    text = i.find('div', class_=\"quoteDetails\").find('div', class_='quoteText').contents[0].strip()\n",
        "    author = i.find('div', class_='quoteDetails').find('div', class_='quoteText').find('span', class_='authorOrTitle').text.replace(',', '').strip()\n",
        "    quote_txt2.append(text)\n",
        "    authors2.append(author)\n",
        "    category2.append(\"Artificial Intelligence & Deep Learning\")    \n",
        "    # print(text)\n",
        "    # print(author)\n",
        "    # print()"
      ],
      "metadata": {
        "id": "u29Aga4B7DFL"
      },
      "execution_count": null,
      "outputs": []
    },
    {
      "cell_type": "code",
      "source": [
        "final_quotes += quote_txt2\n",
        "final_authors += authors2\n",
        "final_category += category2"
      ],
      "metadata": {
        "id": "mw9XXBJN77YD"
      },
      "execution_count": null,
      "outputs": []
    },
    {
      "cell_type": "code",
      "source": [
        "df = pd.DataFrame(\n",
        "    {\"Quote\": final_quotes,\n",
        "     \"Author\": final_authors,\n",
        "     \"Category\": final_category}\n",
        ")"
      ],
      "metadata": {
        "id": "szL0SxroCKvh"
      },
      "execution_count": null,
      "outputs": []
    },
    {
      "cell_type": "code",
      "source": [
        "df.to_excel('quote_vijay.xlsx')"
      ],
      "metadata": {
        "id": "g11RjaYRCUP7"
      },
      "execution_count": null,
      "outputs": []
    },
    {
      "cell_type": "code",
      "source": [
        "df = pd.read_excel('quote_vijay.xlsx')"
      ],
      "metadata": {
        "id": "tuHEo46ODbnw"
      },
      "execution_count": null,
      "outputs": []
    },
    {
      "cell_type": "code",
      "source": [
        "df"
      ],
      "metadata": {
        "colab": {
          "base_uri": "https://localhost:8080/",
          "height": 423
        },
        "id": "fzvC5idZE20e",
        "outputId": "914ebe38-c3a4-4753-abbb-428a807fd30b"
      },
      "execution_count": null,
      "outputs": [
        {
          "output_type": "execute_result",
          "data": {
            "text/plain": [
              "     Quote_Id                                              Quote  \\\n",
              "0           0  Different verticals need different terminal re...   \n",
              "1           1  Tracking marketing is a cultural thing. Either...   \n",
              "2           2  Time and money are your scarcest resources. Yo...   \n",
              "3           3  Have a vision for what you are trying to do. U...   \n",
              "4           4  Execution is so critical. Sometimes you just n...   \n",
              "..        ...                                                ...   \n",
              "111       111  Uncrumpling paper balls is what machine learni...   \n",
              "112       112  Despite the hype, AI isn't a reality. AI is ab...   \n",
              "113       113  Self-awareness is one of the key modules of co...   \n",
              "114       114        What is Machine Learning and Deep Learning?   \n",
              "115       115  One of the key roles of an ethical AI system i...   \n",
              "\n",
              "                   Author                                 Category  \n",
              "0             Alex Shultz                                Analytics  \n",
              "1         Stuart McDonald                                Analytics  \n",
              "2            Matt Trifiro                                Analytics  \n",
              "3             Andrew Chen                                Analytics  \n",
              "4            Meenal Balar                                Analytics  \n",
              "..                    ...                                      ...  \n",
              "111      François Chollet  Artificial Intelligence & Deep Learning  \n",
              "112            Tom Golway  Artificial Intelligence & Deep Learning  \n",
              "113              Amit Ray  Artificial Intelligence & Deep Learning  \n",
              "114  P.S. Jagadeesh Kumar  Artificial Intelligence & Deep Learning  \n",
              "115          Sri Amit Ray  Artificial Intelligence & Deep Learning  \n",
              "\n",
              "[116 rows x 4 columns]"
            ],
            "text/html": [
              "\n",
              "  <div id=\"df-5213bbf8-a892-4052-9817-99840d0c4105\">\n",
              "    <div class=\"colab-df-container\">\n",
              "      <div>\n",
              "<style scoped>\n",
              "    .dataframe tbody tr th:only-of-type {\n",
              "        vertical-align: middle;\n",
              "    }\n",
              "\n",
              "    .dataframe tbody tr th {\n",
              "        vertical-align: top;\n",
              "    }\n",
              "\n",
              "    .dataframe thead th {\n",
              "        text-align: right;\n",
              "    }\n",
              "</style>\n",
              "<table border=\"1\" class=\"dataframe\">\n",
              "  <thead>\n",
              "    <tr style=\"text-align: right;\">\n",
              "      <th></th>\n",
              "      <th>Quote_Id</th>\n",
              "      <th>Quote</th>\n",
              "      <th>Author</th>\n",
              "      <th>Category</th>\n",
              "    </tr>\n",
              "  </thead>\n",
              "  <tbody>\n",
              "    <tr>\n",
              "      <th>0</th>\n",
              "      <td>0</td>\n",
              "      <td>Different verticals need different terminal re...</td>\n",
              "      <td>Alex Shultz</td>\n",
              "      <td>Analytics</td>\n",
              "    </tr>\n",
              "    <tr>\n",
              "      <th>1</th>\n",
              "      <td>1</td>\n",
              "      <td>Tracking marketing is a cultural thing. Either...</td>\n",
              "      <td>Stuart McDonald</td>\n",
              "      <td>Analytics</td>\n",
              "    </tr>\n",
              "    <tr>\n",
              "      <th>2</th>\n",
              "      <td>2</td>\n",
              "      <td>Time and money are your scarcest resources. Yo...</td>\n",
              "      <td>Matt Trifiro</td>\n",
              "      <td>Analytics</td>\n",
              "    </tr>\n",
              "    <tr>\n",
              "      <th>3</th>\n",
              "      <td>3</td>\n",
              "      <td>Have a vision for what you are trying to do. U...</td>\n",
              "      <td>Andrew Chen</td>\n",
              "      <td>Analytics</td>\n",
              "    </tr>\n",
              "    <tr>\n",
              "      <th>4</th>\n",
              "      <td>4</td>\n",
              "      <td>Execution is so critical. Sometimes you just n...</td>\n",
              "      <td>Meenal Balar</td>\n",
              "      <td>Analytics</td>\n",
              "    </tr>\n",
              "    <tr>\n",
              "      <th>...</th>\n",
              "      <td>...</td>\n",
              "      <td>...</td>\n",
              "      <td>...</td>\n",
              "      <td>...</td>\n",
              "    </tr>\n",
              "    <tr>\n",
              "      <th>111</th>\n",
              "      <td>111</td>\n",
              "      <td>Uncrumpling paper balls is what machine learni...</td>\n",
              "      <td>François Chollet</td>\n",
              "      <td>Artificial Intelligence &amp; Deep Learning</td>\n",
              "    </tr>\n",
              "    <tr>\n",
              "      <th>112</th>\n",
              "      <td>112</td>\n",
              "      <td>Despite the hype, AI isn't a reality. AI is ab...</td>\n",
              "      <td>Tom Golway</td>\n",
              "      <td>Artificial Intelligence &amp; Deep Learning</td>\n",
              "    </tr>\n",
              "    <tr>\n",
              "      <th>113</th>\n",
              "      <td>113</td>\n",
              "      <td>Self-awareness is one of the key modules of co...</td>\n",
              "      <td>Amit Ray</td>\n",
              "      <td>Artificial Intelligence &amp; Deep Learning</td>\n",
              "    </tr>\n",
              "    <tr>\n",
              "      <th>114</th>\n",
              "      <td>114</td>\n",
              "      <td>What is Machine Learning and Deep Learning?</td>\n",
              "      <td>P.S. Jagadeesh Kumar</td>\n",
              "      <td>Artificial Intelligence &amp; Deep Learning</td>\n",
              "    </tr>\n",
              "    <tr>\n",
              "      <th>115</th>\n",
              "      <td>115</td>\n",
              "      <td>One of the key roles of an ethical AI system i...</td>\n",
              "      <td>Sri Amit Ray</td>\n",
              "      <td>Artificial Intelligence &amp; Deep Learning</td>\n",
              "    </tr>\n",
              "  </tbody>\n",
              "</table>\n",
              "<p>116 rows × 4 columns</p>\n",
              "</div>\n",
              "      <button class=\"colab-df-convert\" onclick=\"convertToInteractive('df-5213bbf8-a892-4052-9817-99840d0c4105')\"\n",
              "              title=\"Convert this dataframe to an interactive table.\"\n",
              "              style=\"display:none;\">\n",
              "        \n",
              "  <svg xmlns=\"http://www.w3.org/2000/svg\" height=\"24px\"viewBox=\"0 0 24 24\"\n",
              "       width=\"24px\">\n",
              "    <path d=\"M0 0h24v24H0V0z\" fill=\"none\"/>\n",
              "    <path d=\"M18.56 5.44l.94 2.06.94-2.06 2.06-.94-2.06-.94-.94-2.06-.94 2.06-2.06.94zm-11 1L8.5 8.5l.94-2.06 2.06-.94-2.06-.94L8.5 2.5l-.94 2.06-2.06.94zm10 10l.94 2.06.94-2.06 2.06-.94-2.06-.94-.94-2.06-.94 2.06-2.06.94z\"/><path d=\"M17.41 7.96l-1.37-1.37c-.4-.4-.92-.59-1.43-.59-.52 0-1.04.2-1.43.59L10.3 9.45l-7.72 7.72c-.78.78-.78 2.05 0 2.83L4 21.41c.39.39.9.59 1.41.59.51 0 1.02-.2 1.41-.59l7.78-7.78 2.81-2.81c.8-.78.8-2.07 0-2.86zM5.41 20L4 18.59l7.72-7.72 1.47 1.35L5.41 20z\"/>\n",
              "  </svg>\n",
              "      </button>\n",
              "      \n",
              "  <style>\n",
              "    .colab-df-container {\n",
              "      display:flex;\n",
              "      flex-wrap:wrap;\n",
              "      gap: 12px;\n",
              "    }\n",
              "\n",
              "    .colab-df-convert {\n",
              "      background-color: #E8F0FE;\n",
              "      border: none;\n",
              "      border-radius: 50%;\n",
              "      cursor: pointer;\n",
              "      display: none;\n",
              "      fill: #1967D2;\n",
              "      height: 32px;\n",
              "      padding: 0 0 0 0;\n",
              "      width: 32px;\n",
              "    }\n",
              "\n",
              "    .colab-df-convert:hover {\n",
              "      background-color: #E2EBFA;\n",
              "      box-shadow: 0px 1px 2px rgba(60, 64, 67, 0.3), 0px 1px 3px 1px rgba(60, 64, 67, 0.15);\n",
              "      fill: #174EA6;\n",
              "    }\n",
              "\n",
              "    [theme=dark] .colab-df-convert {\n",
              "      background-color: #3B4455;\n",
              "      fill: #D2E3FC;\n",
              "    }\n",
              "\n",
              "    [theme=dark] .colab-df-convert:hover {\n",
              "      background-color: #434B5C;\n",
              "      box-shadow: 0px 1px 3px 1px rgba(0, 0, 0, 0.15);\n",
              "      filter: drop-shadow(0px 1px 2px rgba(0, 0, 0, 0.3));\n",
              "      fill: #FFFFFF;\n",
              "    }\n",
              "  </style>\n",
              "\n",
              "      <script>\n",
              "        const buttonEl =\n",
              "          document.querySelector('#df-5213bbf8-a892-4052-9817-99840d0c4105 button.colab-df-convert');\n",
              "        buttonEl.style.display =\n",
              "          google.colab.kernel.accessAllowed ? 'block' : 'none';\n",
              "\n",
              "        async function convertToInteractive(key) {\n",
              "          const element = document.querySelector('#df-5213bbf8-a892-4052-9817-99840d0c4105');\n",
              "          const dataTable =\n",
              "            await google.colab.kernel.invokeFunction('convertToInteractive',\n",
              "                                                     [key], {});\n",
              "          if (!dataTable) return;\n",
              "\n",
              "          const docLinkHtml = 'Like what you see? Visit the ' +\n",
              "            '<a target=\"_blank\" href=https://colab.research.google.com/notebooks/data_table.ipynb>data table notebook</a>'\n",
              "            + ' to learn more about interactive tables.';\n",
              "          element.innerHTML = '';\n",
              "          dataTable['output_type'] = 'display_data';\n",
              "          await google.colab.output.renderOutput(dataTable, element);\n",
              "          const docLink = document.createElement('div');\n",
              "          docLink.innerHTML = docLinkHtml;\n",
              "          element.appendChild(docLink);\n",
              "        }\n",
              "      </script>\n",
              "    </div>\n",
              "  </div>\n",
              "  "
            ]
          },
          "metadata": {},
          "execution_count": 161
        }
      ]
    },
    {
      "cell_type": "code",
      "source": [
        "df2 = pd.read_excel('quoteRiddhi.xlsx')"
      ],
      "metadata": {
        "id": "Yjk1dmPAE7kT"
      },
      "execution_count": null,
      "outputs": []
    },
    {
      "cell_type": "code",
      "source": [
        "df2"
      ],
      "metadata": {
        "colab": {
          "base_uri": "https://localhost:8080/",
          "height": 423
        },
        "id": "7yhC0cD1M9Nv",
        "outputId": "5b784fc1-9848-4c9c-f35a-b85e06590b9e"
      },
      "execution_count": null,
      "outputs": [
        {
          "output_type": "execute_result",
          "data": {
            "text/plain": [
              "    Quote_Id                                              Quote  \\\n",
              "0        116  By definition all scientists are data scientis...   \n",
              "1        117  \\n“‘Possessed’ is probably the right word. I o...   \n",
              "2        118  \\n“I think of data science as more like a prac...   \n",
              "3        119  \\n“As a data scientist, I can predict what is ...   \n",
              "4        120  \\n“Data scientists are kind of like the new Re...   \n",
              "..       ...                                                ...   \n",
              "56       172  By far, the greatest danger of Artificial Inte...   \n",
              "57       173  If we do it right, we might be able to evolve ...   \n",
              "58       174  I’m increasingly inclined to think that there ...   \n",
              "59       175  I don’t want to really scare you, but it was a...   \n",
              "60       176  We have seen AI providing conversation and com...   \n",
              "\n",
              "               Author      Category  \n",
              "0       Monica Rogati  Data Science  \n",
              "1       Jennifer Shin  Data Science  \n",
              "2           Bob Hayes  Data Science  \n",
              "3       Bill Schmarzo  Data Science  \n",
              "4        John Foreman  Data Science  \n",
              "..                ...           ...  \n",
              "56  Eliezer Yudkowsky            AI  \n",
              "57         John Hagel            AI  \n",
              "58          Elon Musk            AI  \n",
              "59       James Barrat            AI  \n",
              "60          Andrew Ng            AI  \n",
              "\n",
              "[61 rows x 4 columns]"
            ],
            "text/html": [
              "\n",
              "  <div id=\"df-73252958-ab26-42ec-915f-6ef6d9a1b833\">\n",
              "    <div class=\"colab-df-container\">\n",
              "      <div>\n",
              "<style scoped>\n",
              "    .dataframe tbody tr th:only-of-type {\n",
              "        vertical-align: middle;\n",
              "    }\n",
              "\n",
              "    .dataframe tbody tr th {\n",
              "        vertical-align: top;\n",
              "    }\n",
              "\n",
              "    .dataframe thead th {\n",
              "        text-align: right;\n",
              "    }\n",
              "</style>\n",
              "<table border=\"1\" class=\"dataframe\">\n",
              "  <thead>\n",
              "    <tr style=\"text-align: right;\">\n",
              "      <th></th>\n",
              "      <th>Quote_Id</th>\n",
              "      <th>Quote</th>\n",
              "      <th>Author</th>\n",
              "      <th>Category</th>\n",
              "    </tr>\n",
              "  </thead>\n",
              "  <tbody>\n",
              "    <tr>\n",
              "      <th>0</th>\n",
              "      <td>116</td>\n",
              "      <td>By definition all scientists are data scientis...</td>\n",
              "      <td>Monica Rogati</td>\n",
              "      <td>Data Science</td>\n",
              "    </tr>\n",
              "    <tr>\n",
              "      <th>1</th>\n",
              "      <td>117</td>\n",
              "      <td>\\n“‘Possessed’ is probably the right word. I o...</td>\n",
              "      <td>Jennifer Shin</td>\n",
              "      <td>Data Science</td>\n",
              "    </tr>\n",
              "    <tr>\n",
              "      <th>2</th>\n",
              "      <td>118</td>\n",
              "      <td>\\n“I think of data science as more like a prac...</td>\n",
              "      <td>Bob Hayes</td>\n",
              "      <td>Data Science</td>\n",
              "    </tr>\n",
              "    <tr>\n",
              "      <th>3</th>\n",
              "      <td>119</td>\n",
              "      <td>\\n“As a data scientist, I can predict what is ...</td>\n",
              "      <td>Bill Schmarzo</td>\n",
              "      <td>Data Science</td>\n",
              "    </tr>\n",
              "    <tr>\n",
              "      <th>4</th>\n",
              "      <td>120</td>\n",
              "      <td>\\n“Data scientists are kind of like the new Re...</td>\n",
              "      <td>John Foreman</td>\n",
              "      <td>Data Science</td>\n",
              "    </tr>\n",
              "    <tr>\n",
              "      <th>...</th>\n",
              "      <td>...</td>\n",
              "      <td>...</td>\n",
              "      <td>...</td>\n",
              "      <td>...</td>\n",
              "    </tr>\n",
              "    <tr>\n",
              "      <th>56</th>\n",
              "      <td>172</td>\n",
              "      <td>By far, the greatest danger of Artificial Inte...</td>\n",
              "      <td>Eliezer Yudkowsky</td>\n",
              "      <td>AI</td>\n",
              "    </tr>\n",
              "    <tr>\n",
              "      <th>57</th>\n",
              "      <td>173</td>\n",
              "      <td>If we do it right, we might be able to evolve ...</td>\n",
              "      <td>John Hagel</td>\n",
              "      <td>AI</td>\n",
              "    </tr>\n",
              "    <tr>\n",
              "      <th>58</th>\n",
              "      <td>174</td>\n",
              "      <td>I’m increasingly inclined to think that there ...</td>\n",
              "      <td>Elon Musk</td>\n",
              "      <td>AI</td>\n",
              "    </tr>\n",
              "    <tr>\n",
              "      <th>59</th>\n",
              "      <td>175</td>\n",
              "      <td>I don’t want to really scare you, but it was a...</td>\n",
              "      <td>James Barrat</td>\n",
              "      <td>AI</td>\n",
              "    </tr>\n",
              "    <tr>\n",
              "      <th>60</th>\n",
              "      <td>176</td>\n",
              "      <td>We have seen AI providing conversation and com...</td>\n",
              "      <td>Andrew Ng</td>\n",
              "      <td>AI</td>\n",
              "    </tr>\n",
              "  </tbody>\n",
              "</table>\n",
              "<p>61 rows × 4 columns</p>\n",
              "</div>\n",
              "      <button class=\"colab-df-convert\" onclick=\"convertToInteractive('df-73252958-ab26-42ec-915f-6ef6d9a1b833')\"\n",
              "              title=\"Convert this dataframe to an interactive table.\"\n",
              "              style=\"display:none;\">\n",
              "        \n",
              "  <svg xmlns=\"http://www.w3.org/2000/svg\" height=\"24px\"viewBox=\"0 0 24 24\"\n",
              "       width=\"24px\">\n",
              "    <path d=\"M0 0h24v24H0V0z\" fill=\"none\"/>\n",
              "    <path d=\"M18.56 5.44l.94 2.06.94-2.06 2.06-.94-2.06-.94-.94-2.06-.94 2.06-2.06.94zm-11 1L8.5 8.5l.94-2.06 2.06-.94-2.06-.94L8.5 2.5l-.94 2.06-2.06.94zm10 10l.94 2.06.94-2.06 2.06-.94-2.06-.94-.94-2.06-.94 2.06-2.06.94z\"/><path d=\"M17.41 7.96l-1.37-1.37c-.4-.4-.92-.59-1.43-.59-.52 0-1.04.2-1.43.59L10.3 9.45l-7.72 7.72c-.78.78-.78 2.05 0 2.83L4 21.41c.39.39.9.59 1.41.59.51 0 1.02-.2 1.41-.59l7.78-7.78 2.81-2.81c.8-.78.8-2.07 0-2.86zM5.41 20L4 18.59l7.72-7.72 1.47 1.35L5.41 20z\"/>\n",
              "  </svg>\n",
              "      </button>\n",
              "      \n",
              "  <style>\n",
              "    .colab-df-container {\n",
              "      display:flex;\n",
              "      flex-wrap:wrap;\n",
              "      gap: 12px;\n",
              "    }\n",
              "\n",
              "    .colab-df-convert {\n",
              "      background-color: #E8F0FE;\n",
              "      border: none;\n",
              "      border-radius: 50%;\n",
              "      cursor: pointer;\n",
              "      display: none;\n",
              "      fill: #1967D2;\n",
              "      height: 32px;\n",
              "      padding: 0 0 0 0;\n",
              "      width: 32px;\n",
              "    }\n",
              "\n",
              "    .colab-df-convert:hover {\n",
              "      background-color: #E2EBFA;\n",
              "      box-shadow: 0px 1px 2px rgba(60, 64, 67, 0.3), 0px 1px 3px 1px rgba(60, 64, 67, 0.15);\n",
              "      fill: #174EA6;\n",
              "    }\n",
              "\n",
              "    [theme=dark] .colab-df-convert {\n",
              "      background-color: #3B4455;\n",
              "      fill: #D2E3FC;\n",
              "    }\n",
              "\n",
              "    [theme=dark] .colab-df-convert:hover {\n",
              "      background-color: #434B5C;\n",
              "      box-shadow: 0px 1px 3px 1px rgba(0, 0, 0, 0.15);\n",
              "      filter: drop-shadow(0px 1px 2px rgba(0, 0, 0, 0.3));\n",
              "      fill: #FFFFFF;\n",
              "    }\n",
              "  </style>\n",
              "\n",
              "      <script>\n",
              "        const buttonEl =\n",
              "          document.querySelector('#df-73252958-ab26-42ec-915f-6ef6d9a1b833 button.colab-df-convert');\n",
              "        buttonEl.style.display =\n",
              "          google.colab.kernel.accessAllowed ? 'block' : 'none';\n",
              "\n",
              "        async function convertToInteractive(key) {\n",
              "          const element = document.querySelector('#df-73252958-ab26-42ec-915f-6ef6d9a1b833');\n",
              "          const dataTable =\n",
              "            await google.colab.kernel.invokeFunction('convertToInteractive',\n",
              "                                                     [key], {});\n",
              "          if (!dataTable) return;\n",
              "\n",
              "          const docLinkHtml = 'Like what you see? Visit the ' +\n",
              "            '<a target=\"_blank\" href=https://colab.research.google.com/notebooks/data_table.ipynb>data table notebook</a>'\n",
              "            + ' to learn more about interactive tables.';\n",
              "          element.innerHTML = '';\n",
              "          dataTable['output_type'] = 'display_data';\n",
              "          await google.colab.output.renderOutput(dataTable, element);\n",
              "          const docLink = document.createElement('div');\n",
              "          docLink.innerHTML = docLinkHtml;\n",
              "          element.appendChild(docLink);\n",
              "        }\n",
              "      </script>\n",
              "    </div>\n",
              "  </div>\n",
              "  "
            ]
          },
          "metadata": {},
          "execution_count": 165
        }
      ]
    },
    {
      "cell_type": "code",
      "source": [
        "frames = [df, df2]\n",
        "result = pd.concat(frames)\n",
        "display(result)"
      ],
      "metadata": {
        "id": "uLFt8GKwM98V"
      },
      "execution_count": null,
      "outputs": []
    },
    {
      "cell_type": "code",
      "source": [
        "result.set_index('Quote_Id')"
      ],
      "metadata": {
        "colab": {
          "base_uri": "https://localhost:8080/",
          "height": 455
        },
        "id": "QtPBFsQNN1MR",
        "outputId": "9d00b578-bbf4-4e7a-80a4-436ed899801c"
      },
      "execution_count": null,
      "outputs": [
        {
          "output_type": "execute_result",
          "data": {
            "text/plain": [
              "                                                      Quote  \\\n",
              "Quote_Id                                                      \n",
              "0         Different verticals need different terminal re...   \n",
              "1         Tracking marketing is a cultural thing. Either...   \n",
              "2         Time and money are your scarcest resources. Yo...   \n",
              "3         Have a vision for what you are trying to do. U...   \n",
              "4         Execution is so critical. Sometimes you just n...   \n",
              "...                                                     ...   \n",
              "172       By far, the greatest danger of Artificial Inte...   \n",
              "173       If we do it right, we might be able to evolve ...   \n",
              "174       I’m increasingly inclined to think that there ...   \n",
              "175       I don’t want to really scare you, but it was a...   \n",
              "176       We have seen AI providing conversation and com...   \n",
              "\n",
              "                     Author   Category  \n",
              "Quote_Id                                \n",
              "0               Alex Shultz  Analytics  \n",
              "1           Stuart McDonald  Analytics  \n",
              "2              Matt Trifiro  Analytics  \n",
              "3               Andrew Chen  Analytics  \n",
              "4              Meenal Balar  Analytics  \n",
              "...                     ...        ...  \n",
              "172       Eliezer Yudkowsky         AI  \n",
              "173              John Hagel         AI  \n",
              "174               Elon Musk         AI  \n",
              "175            James Barrat         AI  \n",
              "176               Andrew Ng         AI  \n",
              "\n",
              "[177 rows x 3 columns]"
            ],
            "text/html": [
              "\n",
              "  <div id=\"df-a2376d2f-4273-4b0a-b9d9-1d064cf0cb4f\">\n",
              "    <div class=\"colab-df-container\">\n",
              "      <div>\n",
              "<style scoped>\n",
              "    .dataframe tbody tr th:only-of-type {\n",
              "        vertical-align: middle;\n",
              "    }\n",
              "\n",
              "    .dataframe tbody tr th {\n",
              "        vertical-align: top;\n",
              "    }\n",
              "\n",
              "    .dataframe thead th {\n",
              "        text-align: right;\n",
              "    }\n",
              "</style>\n",
              "<table border=\"1\" class=\"dataframe\">\n",
              "  <thead>\n",
              "    <tr style=\"text-align: right;\">\n",
              "      <th></th>\n",
              "      <th>Quote</th>\n",
              "      <th>Author</th>\n",
              "      <th>Category</th>\n",
              "    </tr>\n",
              "    <tr>\n",
              "      <th>Quote_Id</th>\n",
              "      <th></th>\n",
              "      <th></th>\n",
              "      <th></th>\n",
              "    </tr>\n",
              "  </thead>\n",
              "  <tbody>\n",
              "    <tr>\n",
              "      <th>0</th>\n",
              "      <td>Different verticals need different terminal re...</td>\n",
              "      <td>Alex Shultz</td>\n",
              "      <td>Analytics</td>\n",
              "    </tr>\n",
              "    <tr>\n",
              "      <th>1</th>\n",
              "      <td>Tracking marketing is a cultural thing. Either...</td>\n",
              "      <td>Stuart McDonald</td>\n",
              "      <td>Analytics</td>\n",
              "    </tr>\n",
              "    <tr>\n",
              "      <th>2</th>\n",
              "      <td>Time and money are your scarcest resources. Yo...</td>\n",
              "      <td>Matt Trifiro</td>\n",
              "      <td>Analytics</td>\n",
              "    </tr>\n",
              "    <tr>\n",
              "      <th>3</th>\n",
              "      <td>Have a vision for what you are trying to do. U...</td>\n",
              "      <td>Andrew Chen</td>\n",
              "      <td>Analytics</td>\n",
              "    </tr>\n",
              "    <tr>\n",
              "      <th>4</th>\n",
              "      <td>Execution is so critical. Sometimes you just n...</td>\n",
              "      <td>Meenal Balar</td>\n",
              "      <td>Analytics</td>\n",
              "    </tr>\n",
              "    <tr>\n",
              "      <th>...</th>\n",
              "      <td>...</td>\n",
              "      <td>...</td>\n",
              "      <td>...</td>\n",
              "    </tr>\n",
              "    <tr>\n",
              "      <th>172</th>\n",
              "      <td>By far, the greatest danger of Artificial Inte...</td>\n",
              "      <td>Eliezer Yudkowsky</td>\n",
              "      <td>AI</td>\n",
              "    </tr>\n",
              "    <tr>\n",
              "      <th>173</th>\n",
              "      <td>If we do it right, we might be able to evolve ...</td>\n",
              "      <td>John Hagel</td>\n",
              "      <td>AI</td>\n",
              "    </tr>\n",
              "    <tr>\n",
              "      <th>174</th>\n",
              "      <td>I’m increasingly inclined to think that there ...</td>\n",
              "      <td>Elon Musk</td>\n",
              "      <td>AI</td>\n",
              "    </tr>\n",
              "    <tr>\n",
              "      <th>175</th>\n",
              "      <td>I don’t want to really scare you, but it was a...</td>\n",
              "      <td>James Barrat</td>\n",
              "      <td>AI</td>\n",
              "    </tr>\n",
              "    <tr>\n",
              "      <th>176</th>\n",
              "      <td>We have seen AI providing conversation and com...</td>\n",
              "      <td>Andrew Ng</td>\n",
              "      <td>AI</td>\n",
              "    </tr>\n",
              "  </tbody>\n",
              "</table>\n",
              "<p>177 rows × 3 columns</p>\n",
              "</div>\n",
              "      <button class=\"colab-df-convert\" onclick=\"convertToInteractive('df-a2376d2f-4273-4b0a-b9d9-1d064cf0cb4f')\"\n",
              "              title=\"Convert this dataframe to an interactive table.\"\n",
              "              style=\"display:none;\">\n",
              "        \n",
              "  <svg xmlns=\"http://www.w3.org/2000/svg\" height=\"24px\"viewBox=\"0 0 24 24\"\n",
              "       width=\"24px\">\n",
              "    <path d=\"M0 0h24v24H0V0z\" fill=\"none\"/>\n",
              "    <path d=\"M18.56 5.44l.94 2.06.94-2.06 2.06-.94-2.06-.94-.94-2.06-.94 2.06-2.06.94zm-11 1L8.5 8.5l.94-2.06 2.06-.94-2.06-.94L8.5 2.5l-.94 2.06-2.06.94zm10 10l.94 2.06.94-2.06 2.06-.94-2.06-.94-.94-2.06-.94 2.06-2.06.94z\"/><path d=\"M17.41 7.96l-1.37-1.37c-.4-.4-.92-.59-1.43-.59-.52 0-1.04.2-1.43.59L10.3 9.45l-7.72 7.72c-.78.78-.78 2.05 0 2.83L4 21.41c.39.39.9.59 1.41.59.51 0 1.02-.2 1.41-.59l7.78-7.78 2.81-2.81c.8-.78.8-2.07 0-2.86zM5.41 20L4 18.59l7.72-7.72 1.47 1.35L5.41 20z\"/>\n",
              "  </svg>\n",
              "      </button>\n",
              "      \n",
              "  <style>\n",
              "    .colab-df-container {\n",
              "      display:flex;\n",
              "      flex-wrap:wrap;\n",
              "      gap: 12px;\n",
              "    }\n",
              "\n",
              "    .colab-df-convert {\n",
              "      background-color: #E8F0FE;\n",
              "      border: none;\n",
              "      border-radius: 50%;\n",
              "      cursor: pointer;\n",
              "      display: none;\n",
              "      fill: #1967D2;\n",
              "      height: 32px;\n",
              "      padding: 0 0 0 0;\n",
              "      width: 32px;\n",
              "    }\n",
              "\n",
              "    .colab-df-convert:hover {\n",
              "      background-color: #E2EBFA;\n",
              "      box-shadow: 0px 1px 2px rgba(60, 64, 67, 0.3), 0px 1px 3px 1px rgba(60, 64, 67, 0.15);\n",
              "      fill: #174EA6;\n",
              "    }\n",
              "\n",
              "    [theme=dark] .colab-df-convert {\n",
              "      background-color: #3B4455;\n",
              "      fill: #D2E3FC;\n",
              "    }\n",
              "\n",
              "    [theme=dark] .colab-df-convert:hover {\n",
              "      background-color: #434B5C;\n",
              "      box-shadow: 0px 1px 3px 1px rgba(0, 0, 0, 0.15);\n",
              "      filter: drop-shadow(0px 1px 2px rgba(0, 0, 0, 0.3));\n",
              "      fill: #FFFFFF;\n",
              "    }\n",
              "  </style>\n",
              "\n",
              "      <script>\n",
              "        const buttonEl =\n",
              "          document.querySelector('#df-a2376d2f-4273-4b0a-b9d9-1d064cf0cb4f button.colab-df-convert');\n",
              "        buttonEl.style.display =\n",
              "          google.colab.kernel.accessAllowed ? 'block' : 'none';\n",
              "\n",
              "        async function convertToInteractive(key) {\n",
              "          const element = document.querySelector('#df-a2376d2f-4273-4b0a-b9d9-1d064cf0cb4f');\n",
              "          const dataTable =\n",
              "            await google.colab.kernel.invokeFunction('convertToInteractive',\n",
              "                                                     [key], {});\n",
              "          if (!dataTable) return;\n",
              "\n",
              "          const docLinkHtml = 'Like what you see? Visit the ' +\n",
              "            '<a target=\"_blank\" href=https://colab.research.google.com/notebooks/data_table.ipynb>data table notebook</a>'\n",
              "            + ' to learn more about interactive tables.';\n",
              "          element.innerHTML = '';\n",
              "          dataTable['output_type'] = 'display_data';\n",
              "          await google.colab.output.renderOutput(dataTable, element);\n",
              "          const docLink = document.createElement('div');\n",
              "          docLink.innerHTML = docLinkHtml;\n",
              "          element.appendChild(docLink);\n",
              "        }\n",
              "      </script>\n",
              "    </div>\n",
              "  </div>\n",
              "  "
            ]
          },
          "metadata": {},
          "execution_count": 167
        }
      ]
    },
    {
      "cell_type": "code",
      "source": [
        "result.to_excel('final_quotes_data.xlsx')"
      ],
      "metadata": {
        "id": "O2uhbQ99OSLD"
      },
      "execution_count": null,
      "outputs": []
    },
    {
      "cell_type": "code",
      "source": [
        "result.info()"
      ],
      "metadata": {
        "colab": {
          "base_uri": "https://localhost:8080/"
        },
        "id": "4jP-1h8IVe-e",
        "outputId": "11d5eb92-c45e-42c0-fe59-26e834e574db"
      },
      "execution_count": null,
      "outputs": [
        {
          "output_type": "stream",
          "name": "stdout",
          "text": [
            "<class 'pandas.core.frame.DataFrame'>\n",
            "Int64Index: 177 entries, 0 to 60\n",
            "Data columns (total 4 columns):\n",
            " #   Column    Non-Null Count  Dtype \n",
            "---  ------    --------------  ----- \n",
            " 0   Quote_Id  177 non-null    int64 \n",
            " 1   Quote     177 non-null    object\n",
            " 2   Author    177 non-null    object\n",
            " 3   Category  177 non-null    object\n",
            "dtypes: int64(1), object(3)\n",
            "memory usage: 6.9+ KB\n"
          ]
        }
      ]
    },
    {
      "cell_type": "code",
      "source": [
        "# Preprocessing dataframe\n",
        "\n",
        "result.duplicated(subset='Quote').sum()"
      ],
      "metadata": {
        "colab": {
          "base_uri": "https://localhost:8080/"
        },
        "id": "16_wtmKmWFDt",
        "outputId": "631962a1-69e5-4a6d-95eb-3db2dbd30273"
      },
      "execution_count": 25,
      "outputs": [
        {
          "output_type": "execute_result",
          "data": {
            "text/plain": [
              "11"
            ]
          },
          "metadata": {},
          "execution_count": 25
        }
      ]
    },
    {
      "cell_type": "code",
      "source": [
        "result = result.drop_duplicates(subset='Quote')"
      ],
      "metadata": {
        "id": "h6q78d3VWaDZ"
      },
      "execution_count": 26,
      "outputs": []
    },
    {
      "cell_type": "code",
      "source": [
        "result.duplicated(subset='Quote').sum()"
      ],
      "metadata": {
        "colab": {
          "base_uri": "https://localhost:8080/"
        },
        "id": "7O7TDuKQWud5",
        "outputId": "f992f866-de92-4cd3-a8c6-15680f1c5b8e"
      },
      "execution_count": 27,
      "outputs": [
        {
          "output_type": "execute_result",
          "data": {
            "text/plain": [
              "0"
            ]
          },
          "metadata": {},
          "execution_count": 27
        }
      ]
    },
    {
      "cell_type": "code",
      "source": [
        "result.head()"
      ],
      "metadata": {
        "colab": {
          "base_uri": "https://localhost:8080/",
          "height": 206
        },
        "id": "_C7iVTFMWvsx",
        "outputId": "662642a0-48c5-4873-ba80-35829203881b"
      },
      "execution_count": 28,
      "outputs": [
        {
          "output_type": "execute_result",
          "data": {
            "text/plain": [
              "   Unnamed: 0  Quote_Id                                              Quote  \\\n",
              "0           0         0  Different verticals need different terminal re...   \n",
              "1           1         1  Tracking marketing is a cultural thing. Either...   \n",
              "2           2         2  Time and money are your scarcest resources. Yo...   \n",
              "3           3         3  Have a vision for what you are trying to do. U...   \n",
              "4           4         4  Execution is so critical. Sometimes you just n...   \n",
              "\n",
              "            Author   Category  \n",
              "0      Alex Shultz  Analytics  \n",
              "1  Stuart McDonald  Analytics  \n",
              "2     Matt Trifiro  Analytics  \n",
              "3      Andrew Chen  Analytics  \n",
              "4     Meenal Balar  Analytics  "
            ],
            "text/html": [
              "\n",
              "  <div id=\"df-599830b8-195d-44c1-b2c8-f1e7a5ff1da1\">\n",
              "    <div class=\"colab-df-container\">\n",
              "      <div>\n",
              "<style scoped>\n",
              "    .dataframe tbody tr th:only-of-type {\n",
              "        vertical-align: middle;\n",
              "    }\n",
              "\n",
              "    .dataframe tbody tr th {\n",
              "        vertical-align: top;\n",
              "    }\n",
              "\n",
              "    .dataframe thead th {\n",
              "        text-align: right;\n",
              "    }\n",
              "</style>\n",
              "<table border=\"1\" class=\"dataframe\">\n",
              "  <thead>\n",
              "    <tr style=\"text-align: right;\">\n",
              "      <th></th>\n",
              "      <th>Unnamed: 0</th>\n",
              "      <th>Quote_Id</th>\n",
              "      <th>Quote</th>\n",
              "      <th>Author</th>\n",
              "      <th>Category</th>\n",
              "    </tr>\n",
              "  </thead>\n",
              "  <tbody>\n",
              "    <tr>\n",
              "      <th>0</th>\n",
              "      <td>0</td>\n",
              "      <td>0</td>\n",
              "      <td>Different verticals need different terminal re...</td>\n",
              "      <td>Alex Shultz</td>\n",
              "      <td>Analytics</td>\n",
              "    </tr>\n",
              "    <tr>\n",
              "      <th>1</th>\n",
              "      <td>1</td>\n",
              "      <td>1</td>\n",
              "      <td>Tracking marketing is a cultural thing. Either...</td>\n",
              "      <td>Stuart McDonald</td>\n",
              "      <td>Analytics</td>\n",
              "    </tr>\n",
              "    <tr>\n",
              "      <th>2</th>\n",
              "      <td>2</td>\n",
              "      <td>2</td>\n",
              "      <td>Time and money are your scarcest resources. Yo...</td>\n",
              "      <td>Matt Trifiro</td>\n",
              "      <td>Analytics</td>\n",
              "    </tr>\n",
              "    <tr>\n",
              "      <th>3</th>\n",
              "      <td>3</td>\n",
              "      <td>3</td>\n",
              "      <td>Have a vision for what you are trying to do. U...</td>\n",
              "      <td>Andrew Chen</td>\n",
              "      <td>Analytics</td>\n",
              "    </tr>\n",
              "    <tr>\n",
              "      <th>4</th>\n",
              "      <td>4</td>\n",
              "      <td>4</td>\n",
              "      <td>Execution is so critical. Sometimes you just n...</td>\n",
              "      <td>Meenal Balar</td>\n",
              "      <td>Analytics</td>\n",
              "    </tr>\n",
              "  </tbody>\n",
              "</table>\n",
              "</div>\n",
              "      <button class=\"colab-df-convert\" onclick=\"convertToInteractive('df-599830b8-195d-44c1-b2c8-f1e7a5ff1da1')\"\n",
              "              title=\"Convert this dataframe to an interactive table.\"\n",
              "              style=\"display:none;\">\n",
              "        \n",
              "  <svg xmlns=\"http://www.w3.org/2000/svg\" height=\"24px\"viewBox=\"0 0 24 24\"\n",
              "       width=\"24px\">\n",
              "    <path d=\"M0 0h24v24H0V0z\" fill=\"none\"/>\n",
              "    <path d=\"M18.56 5.44l.94 2.06.94-2.06 2.06-.94-2.06-.94-.94-2.06-.94 2.06-2.06.94zm-11 1L8.5 8.5l.94-2.06 2.06-.94-2.06-.94L8.5 2.5l-.94 2.06-2.06.94zm10 10l.94 2.06.94-2.06 2.06-.94-2.06-.94-.94-2.06-.94 2.06-2.06.94z\"/><path d=\"M17.41 7.96l-1.37-1.37c-.4-.4-.92-.59-1.43-.59-.52 0-1.04.2-1.43.59L10.3 9.45l-7.72 7.72c-.78.78-.78 2.05 0 2.83L4 21.41c.39.39.9.59 1.41.59.51 0 1.02-.2 1.41-.59l7.78-7.78 2.81-2.81c.8-.78.8-2.07 0-2.86zM5.41 20L4 18.59l7.72-7.72 1.47 1.35L5.41 20z\"/>\n",
              "  </svg>\n",
              "      </button>\n",
              "      \n",
              "  <style>\n",
              "    .colab-df-container {\n",
              "      display:flex;\n",
              "      flex-wrap:wrap;\n",
              "      gap: 12px;\n",
              "    }\n",
              "\n",
              "    .colab-df-convert {\n",
              "      background-color: #E8F0FE;\n",
              "      border: none;\n",
              "      border-radius: 50%;\n",
              "      cursor: pointer;\n",
              "      display: none;\n",
              "      fill: #1967D2;\n",
              "      height: 32px;\n",
              "      padding: 0 0 0 0;\n",
              "      width: 32px;\n",
              "    }\n",
              "\n",
              "    .colab-df-convert:hover {\n",
              "      background-color: #E2EBFA;\n",
              "      box-shadow: 0px 1px 2px rgba(60, 64, 67, 0.3), 0px 1px 3px 1px rgba(60, 64, 67, 0.15);\n",
              "      fill: #174EA6;\n",
              "    }\n",
              "\n",
              "    [theme=dark] .colab-df-convert {\n",
              "      background-color: #3B4455;\n",
              "      fill: #D2E3FC;\n",
              "    }\n",
              "\n",
              "    [theme=dark] .colab-df-convert:hover {\n",
              "      background-color: #434B5C;\n",
              "      box-shadow: 0px 1px 3px 1px rgba(0, 0, 0, 0.15);\n",
              "      filter: drop-shadow(0px 1px 2px rgba(0, 0, 0, 0.3));\n",
              "      fill: #FFFFFF;\n",
              "    }\n",
              "  </style>\n",
              "\n",
              "      <script>\n",
              "        const buttonEl =\n",
              "          document.querySelector('#df-599830b8-195d-44c1-b2c8-f1e7a5ff1da1 button.colab-df-convert');\n",
              "        buttonEl.style.display =\n",
              "          google.colab.kernel.accessAllowed ? 'block' : 'none';\n",
              "\n",
              "        async function convertToInteractive(key) {\n",
              "          const element = document.querySelector('#df-599830b8-195d-44c1-b2c8-f1e7a5ff1da1');\n",
              "          const dataTable =\n",
              "            await google.colab.kernel.invokeFunction('convertToInteractive',\n",
              "                                                     [key], {});\n",
              "          if (!dataTable) return;\n",
              "\n",
              "          const docLinkHtml = 'Like what you see? Visit the ' +\n",
              "            '<a target=\"_blank\" href=https://colab.research.google.com/notebooks/data_table.ipynb>data table notebook</a>'\n",
              "            + ' to learn more about interactive tables.';\n",
              "          element.innerHTML = '';\n",
              "          dataTable['output_type'] = 'display_data';\n",
              "          await google.colab.output.renderOutput(dataTable, element);\n",
              "          const docLink = document.createElement('div');\n",
              "          docLink.innerHTML = docLinkHtml;\n",
              "          element.appendChild(docLink);\n",
              "        }\n",
              "      </script>\n",
              "    </div>\n",
              "  </div>\n",
              "  "
            ]
          },
          "metadata": {},
          "execution_count": 28
        }
      ]
    },
    {
      "cell_type": "code",
      "source": [
        "from sklearn.feature_extraction.text import TfidfVectorizer"
      ],
      "metadata": {
        "id": "K8kt5BJXW0cS"
      },
      "execution_count": 10,
      "outputs": []
    },
    {
      "cell_type": "code",
      "source": [
        "result = pd.read_excel(\"final_quotes_data.xlsx\")"
      ],
      "metadata": {
        "id": "A8bSWXDYbjV0"
      },
      "execution_count": 24,
      "outputs": []
    },
    {
      "cell_type": "code",
      "source": [
        "from sklearn.feature_extraction.text import TfidfVectorizer\n",
        "tf_idf = TfidfVectorizer(stop_words=\"english\")\n",
        "\n",
        "tf_idf_matrix=tf_idf.fit_transform(result[\"Category\"])"
      ],
      "metadata": {
        "id": "q-YCT8Igb5SA"
      },
      "execution_count": 29,
      "outputs": []
    },
    {
      "cell_type": "code",
      "source": [
        "from sklearn.metrics.pairwise import linear_kernel"
      ],
      "metadata": {
        "id": "Yixq_8a5cgeQ"
      },
      "execution_count": 19,
      "outputs": []
    },
    {
      "cell_type": "code",
      "source": [
        "cosine_similarity=linear_kernel(tf_idf_matrix,tf_idf_matrix)"
      ],
      "metadata": {
        "id": "TC3YYi4RchS0"
      },
      "execution_count": 30,
      "outputs": []
    },
    {
      "cell_type": "code",
      "source": [
        "cosine_similarity"
      ],
      "metadata": {
        "colab": {
          "base_uri": "https://localhost:8080/"
        },
        "id": "HI-RXpjwcjpY",
        "outputId": "c229affd-01aa-47b9-8553-b2c8c7ed1117"
      },
      "execution_count": 31,
      "outputs": [
        {
          "output_type": "execute_result",
          "data": {
            "text/plain": [
              "array([[1., 1., 1., ..., 0., 0., 0.],\n",
              "       [1., 1., 1., ..., 0., 0., 0.],\n",
              "       [1., 1., 1., ..., 0., 0., 0.],\n",
              "       ...,\n",
              "       [0., 0., 0., ..., 1., 1., 1.],\n",
              "       [0., 0., 0., ..., 1., 1., 1.],\n",
              "       [0., 0., 0., ..., 1., 1., 1.]])"
            ]
          },
          "metadata": {},
          "execution_count": 31
        }
      ]
    },
    {
      "cell_type": "code",
      "source": [
        "indices=pd.Series(result.index,index=result[\"Quote_Id\"]).drop_duplicates()"
      ],
      "metadata": {
        "id": "LBNaDOylcm60"
      },
      "execution_count": 34,
      "outputs": []
    },
    {
      "cell_type": "code",
      "source": [
        "indices"
      ],
      "metadata": {
        "colab": {
          "base_uri": "https://localhost:8080/"
        },
        "id": "REFQ6MMUcydE",
        "outputId": "a88ae0b7-7044-411d-81e5-659856de172c"
      },
      "execution_count": 35,
      "outputs": [
        {
          "output_type": "execute_result",
          "data": {
            "text/plain": [
              "Quote_Id\n",
              "0        0\n",
              "1        1\n",
              "2        2\n",
              "3        3\n",
              "4        4\n",
              "      ... \n",
              "170    170\n",
              "171    171\n",
              "173    173\n",
              "175    175\n",
              "176    176\n",
              "Length: 166, dtype: int64"
            ]
          },
          "metadata": {},
          "execution_count": 35
        }
      ]
    },
    {
      "cell_type": "code",
      "source": [
        "def give_recommendation(title,cosine_similarity=cosine_similarity):\n",
        "    index=indices[title]\n",
        "    similarity_score=enumerate(cosine_similarity[index])\n",
        "    similarity_score=sorted(similarity_score,key = lambda x:x[1],reverse=True)\n",
        "    similarity_score=similarity_score[1:6]\n",
        "    similarity_index=[i[0] for i in similarity_score]\n",
        "    print(result[\"Quote\"].iloc[similarity_index])\n",
        "    print(result[\"Category\"].iloc[similarity_index])\n",
        "    print(result[\"Author\"].iloc[similarity_index])"
      ],
      "metadata": {
        "id": "KI6TNlKTc0eb"
      },
      "execution_count": 41,
      "outputs": []
    },
    {
      "cell_type": "code",
      "source": [
        "give_recommendation(56)"
      ],
      "metadata": {
        "colab": {
          "base_uri": "https://localhost:8080/"
        },
        "id": "RPUF-rLceLUS",
        "outputId": "29fb0996-f837-4de3-c258-54b524cdc60d"
      },
      "execution_count": 45,
      "outputs": [
        {
          "output_type": "stream",
          "name": "stdout",
          "text": [
            "51              In God we trust, all others bring data.\n",
            "52    No great marketing decisions have ever been ma...\n",
            "53    Torture the data, and it will confess to anyth...\n",
            "54    With data collection, ‘the sooner the better’ ...\n",
            "55        Big data isn’t about bits, it’s about talent.\n",
            "Name: Quote, dtype: object\n",
            "51    Big Data\n",
            "52    Big Data\n",
            "53    Big Data\n",
            "54    Big Data\n",
            "55    Big Data\n",
            "Name: Category, dtype: object\n",
            "51    W Edwards Deming\n",
            "52        John Sculley\n",
            "53        Ronald Coase\n",
            "54       Marissa Mayer\n",
            "55     Douglas Merrill\n",
            "Name: Author, dtype: object\n"
          ]
        }
      ]
    },
    {
      "cell_type": "code",
      "source": [],
      "metadata": {
        "id": "Mu-2QYOceagK"
      },
      "execution_count": null,
      "outputs": []
    }
  ]
}